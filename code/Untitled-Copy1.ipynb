{
 "cells": [
  {
   "cell_type": "code",
   "execution_count": 2,
   "id": "83577806",
   "metadata": {},
   "outputs": [
    {
     "name": "stdout",
     "output_type": "stream",
     "text": [
      "348692\n",
      "284941\n",
      "387129\n",
      "626349\n",
      "382587\n",
      "338768\n",
      "439689\n",
      "513044\n",
      "482919\n",
      "318704\n"
     ]
    }
   ],
   "source": [
    "import os\n",
    "\n",
    "def get_dir_size(path='.'):\n",
    "    total = 0\n",
    "    with os.scandir(path) as it:\n",
    "        for entry in it:\n",
    "            if entry.is_file():\n",
    "                total += entry.stat().st_size\n",
    "            elif entry.is_dir():\n",
    "                total += get_dir_size(entry.path)\n",
    "    return total\n",
    "\n",
    "for name in ['i','ii','iii','iv','v','vi','vii','viii','ix','x']:\n",
    "    print(get_dir_size('data2-copy/train/'+name))"
   ]
  },
  {
   "cell_type": "code",
   "execution_count": 1,
   "id": "618c8447",
   "metadata": {},
   "outputs": [],
   "source": [
    "from PIL import Image\n",
    "import glob\n",
    "import numpy as np\n",
    "from PIL import ImageOps"
   ]
  },
  {
   "cell_type": "code",
   "execution_count": 17,
   "id": "0e70384f",
   "metadata": {},
   "outputs": [],
   "source": [
    "reverse = {}\n",
    "reverse['i'] = 'i'\n",
    "reverse['ii'] = 'ii'\n",
    "reverse['iii'] = 'iii'\n",
    "reverse['iv'] = 'vi'\n",
    "reverse['v'] = 'v'\n",
    "reverse['vi'] = 'iv'\n",
    "reverse['vii'] = None\n",
    "reverse['viii'] = None\n",
    "reverse['ix'] = None\n",
    "reverse['x'] = 'x'"
   ]
  },
  {
   "cell_type": "code",
   "execution_count": 18,
   "id": "ea985ae1",
   "metadata": {},
   "outputs": [],
   "source": [
    "img_dict = {}\n",
    "for cls in ['i','ii','iii','iv','v','vi','vii','viii','ix','x']:\n",
    "    img_dict[cls] = []"
   ]
  },
  {
   "cell_type": "code",
   "execution_count": 19,
   "id": "314e7bdb",
   "metadata": {},
   "outputs": [
    {
     "name": "stdout",
     "output_type": "stream",
     "text": [
      "i i\n",
      "ii ii\n",
      "iii iii\n",
      "iv vi\n",
      "v v\n",
      "vi iv\n",
      "vii None\n",
      "viii None\n",
      "ix None\n",
      "x x\n"
     ]
    }
   ],
   "source": [
    "for i in ['i','ii','iii','iv','v','vi','vii','viii','ix','x']:\n",
    "    print(i, reverse[i])"
   ]
  },
  {
   "cell_type": "code",
   "execution_count": 20,
   "id": "09240982",
   "metadata": {},
   "outputs": [
    {
     "name": "stdout",
     "output_type": "stream",
     "text": [
      "257\n",
      "132\n",
      "164\n",
      "276\n",
      "186\n",
      "178\n",
      "183\n",
      "179\n",
      "221\n",
      "171\n"
     ]
    }
   ],
   "source": [
    "for cls in ['i','ii','iii','iv','v','vi','vii','viii','ix','x']:\n",
    "    image_list = []\n",
    "    for filename in glob.glob('data2-copy/train/{}/*.png'.format(cls)):\n",
    "        im=Image.open(filename)\n",
    "        image_list.append(im)\n",
    "        \n",
    "        \n",
    "    print(len(image_list))\n",
    "    \n",
    "    \n",
    "    new_sized = []\n",
    "    for img in image_list:\n",
    "        #print(type(img))\n",
    "        #n_samples = len(img)\n",
    "        #img = img.resize((150,150),Image.ANTIALIAS)\n",
    "        pix = np.array(img)\n",
    "        new_sized.append(pix)\n",
    "        #data = digits.images.reshape((n_samples, -1))\n",
    "        #break\n",
    "        \n",
    "    \n",
    "    images = []\n",
    "    '''for arr in new_sized:\n",
    "        max_x = 0\n",
    "        min_x = 0\n",
    "        min_y = 0\n",
    "        max_y = 0\n",
    "        for i in range(len(arr)):\n",
    "            for t in range(len(arr[i])):\n",
    "                if arr[i,t] != 255:\n",
    "                    if i > max_x or max_x == 0:\n",
    "                        max_x = i\n",
    "                    if t > max_y or max_y == 0:\n",
    "                        max_y = t\n",
    "                    if i < min_x or min_x == 0:\n",
    "                        min_x = i\n",
    "                    if t < min_y or min_y == 0:\n",
    "                        min_y = t\n",
    "\n",
    "\n",
    "        #print(max_x, min_x)\n",
    "        #print(max_y, min_y)\n",
    "        if min_x < max_x and min_y < max_y:\n",
    "            nu_img = Image.fromarray(arr).crop((min_x, min_y, max_x, max_y))\n",
    "            images.append(nu_img)\n",
    "        '''\n",
    "    #images_final = []\n",
    "    #for image in images:\n",
    "    #    pix = np.array(image)\n",
    "    #    try:\n",
    "    #        if np.mean(pix) < 260 and np.mean(pix) > 150:\n",
    "    #            images_final.append(image)\n",
    "    #    except:\n",
    "    #        pass\n",
    "    \n",
    "    images_final = image_list\n",
    "    img_dict[cls].extend(images_final)\n",
    "    \n",
    "    reverse_target = reverse[cls]\n",
    "    if reverse_target != None:\n",
    "        for image in images_final:\n",
    "            if np.random.uniform() <= 0.4:\n",
    "                img_dict[reverse_target].append(ImageOps.mirror(image))\n",
    "    "
   ]
  },
  {
   "cell_type": "code",
   "execution_count": 21,
   "id": "ded2bf60",
   "metadata": {},
   "outputs": [],
   "source": [
    "max_len = max([len(img_dict[x]) for x in ['i','ii','iii','iv','v','vi','vii','viii','ix','x']])"
   ]
  },
  {
   "cell_type": "code",
   "execution_count": 22,
   "id": "dc1b294a",
   "metadata": {},
   "outputs": [
    {
     "data": {
      "text/plain": [
       "367"
      ]
     },
     "execution_count": 22,
     "metadata": {},
     "output_type": "execute_result"
    }
   ],
   "source": [
    "max_len"
   ]
  },
  {
   "cell_type": "code",
   "execution_count": 9,
   "id": "96efff03",
   "metadata": {},
   "outputs": [],
   "source": [
    "for cls in ['i','ii','iii','iv','v','vi','vii','viii','ix','x']:\n",
    "    l = len(img_dict[cls])\n",
    "    vals = np.random.choice(l, int(l*0.2), replace=False)\n",
    "    trains = np.arange(l)\n",
    "    trains = np.array([x for x in trains if x not in vals])"
   ]
  },
  {
   "cell_type": "code",
   "execution_count": 10,
   "id": "4e5549d8",
   "metadata": {},
   "outputs": [
    {
     "data": {
      "text/plain": [
       "array([  2, 124,  20,  43,  73, 150, 197, 138,  12,  10,  37,  53,   7,\n",
       "        70,  95,  35,  66, 214, 168,  17, 179, 231, 175, 127,   9,   3,\n",
       "       148, 100, 119, 210,  83,  21,  18, 181, 109, 167,  29, 184, 199,\n",
       "        76,  63, 125, 133,  58, 226, 201,  82, 147])"
      ]
     },
     "execution_count": 10,
     "metadata": {},
     "output_type": "execute_result"
    }
   ],
   "source": [
    "vals"
   ]
  },
  {
   "cell_type": "code",
   "execution_count": 27,
   "id": "2cf08e97",
   "metadata": {},
   "outputs": [],
   "source": [
    "for cls in ['i','ii','iii','iv','v','vi','vii','viii','ix','x']:\n",
    "    l = len(img_dict[cls])\n",
    "    vals = np.random.choice(l, int(l*0.2), replace=False)\n",
    "    trains = np.arange(l)\n",
    "    trains = np.array([x for x in trains if x not in vals])\n",
    "    \n",
    "    for i in vals:\n",
    "        img_dict[cls][i].save(\"data3_new/val/{}/val_image\".format(cls)+str(i)+\".png\")\n",
    "    for i in trains:\n",
    "        img_dict[cls][i].save(\"data3_new/train/{}/train_image\".format(cls)+str(i)+\".png\")\n",
    "    \n",
    "    added = np.random.choice(trains, max_len-l, replace=True)\n",
    "    \n",
    "    for i in range(len(added)):\n",
    "        img_dict[cls][added[i]].save(\"data3_new/train/{}/train_image\".format(cls)+str(i+l)+\".png\")"
   ]
  },
  {
   "cell_type": "code",
   "execution_count": null,
   "id": "7a40e0be",
   "metadata": {},
   "outputs": [],
   "source": []
  },
  {
   "cell_type": "code",
   "execution_count": 84,
   "id": "fdec0c7b",
   "metadata": {},
   "outputs": [],
   "source": [
    "import os"
   ]
  },
  {
   "cell_type": "code",
   "execution_count": 23,
   "id": "c2a07028",
   "metadata": {},
   "outputs": [],
   "source": [
    "os.mkdir('data3_new')\n",
    "\n"
   ]
  },
  {
   "cell_type": "code",
   "execution_count": 24,
   "id": "1350321b",
   "metadata": {},
   "outputs": [],
   "source": [
    "os.mkdir('data3_new/train')\n",
    "os.mkdir('data3_new/val')"
   ]
  },
  {
   "cell_type": "code",
   "execution_count": 25,
   "id": "ddaee493",
   "metadata": {},
   "outputs": [],
   "source": [
    "os.mkdir('data3_new/train/i')\n",
    "os.mkdir('data3_new/train/ii')\n",
    "os.mkdir('data3_new/train/iii')\n",
    "os.mkdir('data3_new/train/iv')\n",
    "os.mkdir('data3_new/train/v')\n",
    "os.mkdir('data3_new/train/vi')\n",
    "os.mkdir('data3_new/train/vii')\n",
    "os.mkdir('data3_new/train/viii')\n",
    "os.mkdir('data3_new/train/ix')\n",
    "os.mkdir('data3_new/train/x')"
   ]
  },
  {
   "cell_type": "code",
   "execution_count": 26,
   "id": "84682d06",
   "metadata": {},
   "outputs": [],
   "source": [
    "os.mkdir('data3_new/val/i')\n",
    "os.mkdir('data3_new/val/ii')\n",
    "os.mkdir('data3_new/val/iii')\n",
    "os.mkdir('data3_new/val/iv')\n",
    "os.mkdir('data3_new/val/v')\n",
    "os.mkdir('data3_new/val/vi')\n",
    "os.mkdir('data3_new/val/vii')\n",
    "os.mkdir('data3_new/val/viii')\n",
    "os.mkdir('data3_new/val/ix')\n",
    "os.mkdir('data3_new/val/x')"
   ]
  },
  {
   "cell_type": "code",
   "execution_count": null,
   "id": "6627cd53",
   "metadata": {},
   "outputs": [],
   "source": []
  }
 ],
 "metadata": {
  "kernelspec": {
   "display_name": "Python 3",
   "language": "python",
   "name": "python3"
  },
  "language_info": {
   "codemirror_mode": {
    "name": "ipython",
    "version": 3
   },
   "file_extension": ".py",
   "mimetype": "text/x-python",
   "name": "python",
   "nbconvert_exporter": "python",
   "pygments_lexer": "ipython3",
   "version": "3.8.8"
  }
 },
 "nbformat": 4,
 "nbformat_minor": 5
}
